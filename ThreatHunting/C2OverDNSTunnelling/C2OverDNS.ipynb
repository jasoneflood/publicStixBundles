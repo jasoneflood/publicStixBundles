{
 "cells": [
  {
   "cell_type": "code",
   "execution_count": 1,
   "id": "c9c1500b",
   "metadata": {
    "vscode": {
     "languageId": "kestrel"
    }
   },
   "outputs": [
    {
     "name": "stderr",
     "output_type": "stream",
     "text": []
    },
    {
     "data": {
      "text/html": [
       "<div><h4>Block Executed in 4 seconds</h4><table border=\"1\" class=\"dataframe\">\n",
       "  <thead>\n",
       "    <tr style=\"text-align: right;\">\n",
       "      <th>VARIABLE</th>\n",
       "      <th>TYPE</th>\n",
       "      <th>#(ENTITIES)</th>\n",
       "      <th>#(RECORDS)</th>\n",
       "      <th>ipv4-addr*</th>\n",
       "      <th>network-traffic*</th>\n",
       "    </tr>\n",
       "  </thead>\n",
       "  <tbody>\n",
       "    <tr>\n",
       "      <td>external_DNS</td>\n",
       "      <td>network-traffic</td>\n",
       "      <td>22</td>\n",
       "      <td>22</td>\n",
       "      <td>44</td>\n",
       "      <td>0</td>\n",
       "    </tr>\n",
       "  </tbody>\n",
       "</table><p>*Number of related records cached.</p></div>"
      ]
     },
     "metadata": {},
     "output_type": "display_data"
    }
   ],
   "source": [
    "#Get external DNS traffic\n",
    "external_DNS = GET network-traffic FROM https://stix-bundles.s3.us-east.cloud-object-storage.appdomain.cloud/dns_tunneling.json WHERE [network-traffic:dst_port = 53 AND network-traffic:dst_ref.value NOT ISSUBSET '192.168.1.0/24']  START t'2021-02-01T00:00:00.000Z' STOP t'2021-03-15T19:03:00.000Z'"
   ]
  },
  {
   "cell_type": "code",
   "execution_count": 2,
   "id": "51451de2",
   "metadata": {},
   "outputs": [
    {
     "name": "stderr",
     "output_type": "stream",
     "text": []
    },
    {
     "data": {
      "text/html": [
       "<div><h4>Block Executed in 3 seconds</h4><table border=\"1\" class=\"dataframe\">\n",
       "  <thead>\n",
       "    <tr style=\"text-align: right;\">\n",
       "      <th>VARIABLE</th>\n",
       "      <th>TYPE</th>\n",
       "      <th>#(ENTITIES)</th>\n",
       "      <th>#(RECORDS)</th>\n",
       "      <th>ipv4-addr*</th>\n",
       "      <th>network-traffic*</th>\n",
       "    </tr>\n",
       "  </thead>\n",
       "  <tbody>\n",
       "    <tr>\n",
       "      <td>dns_data</td>\n",
       "      <td>network-traffic</td>\n",
       "      <td>22</td>\n",
       "      <td>44</td>\n",
       "      <td>88</td>\n",
       "      <td>22</td>\n",
       "    </tr>\n",
       "  </tbody>\n",
       "</table><p>*Number of related records cached.</p></div>"
      ]
     },
     "metadata": {},
     "output_type": "display_data"
    }
   ],
   "source": [
    "dns_data = GET network-traffic FROM file:///home/sysadmin/datasets/dns_tunneling.json WHERE [network-traffic:dst_port = 53 AND network-traffic:dst_ref.value NOT ISSUBSET '192.168.1.0/24']  START t'2021-02-01T00:00:00.000Z' STOP t'2021-03-15T19:03:00.000Z'"
   ]
  },
  {
   "cell_type": "code",
   "execution_count": null,
   "id": "3dd6b08d",
   "metadata": {},
   "outputs": [],
   "source": [
    "ips = new ipv4-addr [{\"value\":\"94.127.217.66\"}, {\"value\":\"24.116.105.234\"}]\n",
    "APPLY python://xfeenrich on ips"
   ]
  },
  {
   "cell_type": "code",
   "execution_count": null,
   "id": "c0daed14",
   "metadata": {},
   "outputs": [],
   "source": [
    "disp ips"
   ]
  },
  {
   "cell_type": "code",
   "execution_count": null,
   "id": "8208e40d",
   "metadata": {
    "vscode": {
     "languageId": "kestrel"
    }
   },
   "outputs": [],
   "source": [
    "# threat intel enrichment\n",
    "APPLY python://xfeenrich ON external_DNS"
   ]
  },
  {
   "cell_type": "code",
   "execution_count": null,
   "id": "36e9fd7f",
   "metadata": {},
   "outputs": [],
   "source": [
    "DISP external_DNS"
   ]
  },
  {
   "cell_type": "code",
   "execution_count": null,
   "id": "5f74ea7c",
   "metadata": {
    "vscode": {
     "languageId": "kestrel"
    }
   },
   "outputs": [],
   "source": [
    "#risky ips\n",
    "risky = GET network-traffic FROM \"external_DNS\" WHERE [network-traffic:dst_ref.dst_ref.x_value_geo= \"Russia\"]"
   ]
  },
  {
   "cell_type": "code",
   "execution_count": null,
   "id": "d154f1c4",
   "metadata": {},
   "outputs": [],
   "source": [
    "disp risky"
   ]
  },
  {
   "cell_type": "code",
   "execution_count": null,
   "id": "31bebf55",
   "metadata": {
    "vscode": {
     "languageId": "kestrel"
    }
   },
   "outputs": [],
   "source": [
    "#processes making risky connection\n",
    "proc = GET process FROM file:///home/sysadmin/datasets/cbrstix2.json WHERE [network-traffic:src_port = risky.src_port] START t'2020-02-01T00:00:00.000Z' STOP t'2021-03-15T19:03:00.000Z'"
   ]
  },
  {
   "cell_type": "code",
   "execution_count": null,
   "id": "55d02aea",
   "metadata": {},
   "outputs": [],
   "source": [
    "disp proc"
   ]
  }
 ],
 "metadata": {
  "kernelspec": {
   "display_name": "Kestrel",
   "language": "kestrel",
   "name": "kestrel"
  },
  "language_info": {
   "file_extension": ".hf",
   "name": "kestrel"
  }
 },
 "nbformat": 4,
 "nbformat_minor": 5
}
