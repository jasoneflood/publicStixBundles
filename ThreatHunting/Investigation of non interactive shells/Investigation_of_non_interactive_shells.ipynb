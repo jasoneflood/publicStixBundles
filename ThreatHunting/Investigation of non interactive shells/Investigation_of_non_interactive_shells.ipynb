{
 "cells": [
  {
   "cell_type": "markdown",
   "id": "544415b5",
   "metadata": {},
   "source": [
    "# Invewtigation non interactive shells\n",
    "\n"
   ]
  },
  {
   "cell_type": "code",
   "execution_count": null,
   "id": "58618594",
   "metadata": {},
   "outputs": [],
   "source": [
    "# # Find Windows shells launched non-interactively (i.e. not from explorer.exe)\n",
    "procs = GET process FROM \"Kestrel demo\" WHERE [process:binary_ref.name IN ('cmd.exe', 'powershell.exe') AND process:parent_ref.binary_ref.name != 'explorer.exe'] START t'2021-05-06T00:00:00.000Z' STOP t'2024-05-07T00:00:00.000Z' "
   ]
  },
  {
   "cell_type": "code",
   "execution_count": null,
   "id": "7f36ed39",
   "metadata": {},
   "outputs": [],
   "source": [
    "# # Powershell deobfuscation analytic\n",
    "APPLY psd ON procs"
   ]
  },
  {
   "cell_type": "code",
   "execution_count": null,
   "id": "4b6ddae3",
   "metadata": {},
   "outputs": [],
   "source": [
    "# # Find the netconns created by powershell\n",
    "conns = FIND network-traffic CREATED BY procs\n"
   ]
  },
  {
   "cell_type": "code",
   "execution_count": null,
   "id": "5a6239e5",
   "metadata": {},
   "outputs": [],
   "source": [
    "# # Apply Threat Intelligence Service (TIS) enrichment on those connections \n",
    "APPLY tis-enrich ON conns"
   ]
  },
  {
   "cell_type": "code",
   "execution_count": null,
   "id": "e29e1a2c",
   "metadata": {},
   "outputs": [],
   "source": [
    "# # Find the process(es) that created those shells\n",
    "parents = FIND process CREATED procs\n"
   ]
  },
  {
   "cell_type": "code",
   "execution_count": null,
   "id": "040082fc",
   "metadata": {},
   "outputs": [],
   "source": [
    "# # Look for any files touched by the parent process (i.e the ones that launched the shells)\n",
    "files = FIND file LINKED parents\n"
   ]
  },
  {
   "cell_type": "code",
   "execution_count": null,
   "id": "43b0a9bb",
   "metadata": {},
   "outputs": [],
   "source": [
    "# # Look up the hashes of those files\n",
    "# #APPLY tis-enrich ON files\n",
    "APPLY tis-enrich ON files"
   ]
  },
  {
   "cell_type": "code",
   "execution_count": null,
   "id": "f82e1082",
   "metadata": {},
   "outputs": [],
   "source": [
    "# # Filter those files looking for Word docs\n",
    "susp_files = files WHERE name LIKE '%.docx'\n"
   ]
  },
  {
   "cell_type": "code",
   "execution_count": null,
   "id": "81bfc001",
   "metadata": {},
   "outputs": [],
   "source": [
    "disp conns\n"
   ]
  }
 ],
 "metadata": {
  "kernelspec": {
   "display_name": "Kestrel",
   "language": "kestrel",
   "name": "kestrel"
  },
  "language_info": {
   "name": "kestrel"
  }
 },
 "nbformat": 4,
 "nbformat_minor": 5
}
